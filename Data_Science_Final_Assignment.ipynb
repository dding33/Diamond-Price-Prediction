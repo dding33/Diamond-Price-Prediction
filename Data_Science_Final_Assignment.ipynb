{
  "nbformat": 4,
  "nbformat_minor": 0,
  "metadata": {
    "colab": {
      "provenance": []
    },
    "kernelspec": {
      "name": "python3",
      "display_name": "Python 3"
    },
    "language_info": {
      "name": "python"
    }
  },
  "cells": [
    {
      "cell_type": "code",
      "source": [
        "import pandas as pd\n",
        "import sys\n",
        "import scipy\n",
        "import numpy as np\n",
        "import matplotlib\n",
        "import sklearn"
      ],
      "metadata": {
        "id": "FKOE668nxI-U"
      },
      "execution_count": null,
      "outputs": []
    },
    {
      "cell_type": "code",
      "source": [
        "# Load libraries\n",
        "from pandas import read_csv\n",
        "from pandas.plotting import scatter_matrix\n",
        "from matplotlib import pyplot\n",
        "from sklearn.model_selection import train_test_split\n",
        "from sklearn.model_selection import cross_val_score\n",
        "from sklearn.model_selection import StratifiedKFold\n",
        "from sklearn.metrics import classification_report\n",
        "from sklearn.metrics import confusion_matrix\n",
        "from sklearn.metrics import accuracy_score\n",
        "from sklearn.linear_model import LogisticRegression\n",
        "from sklearn.tree import DecisionTreeClassifier\n",
        "from sklearn.neighbors import KNeighborsClassifier\n",
        "from sklearn.discriminant_analysis import LinearDiscriminantAnalysis\n",
        "from sklearn.naive_bayes import GaussianNB\n",
        "from sklearn.svm import SVC\n",
        "from sklearn.preprocessing import OrdinalEncoder\n",
        "from sklearn.svm import SVC"
      ],
      "metadata": {
        "id": "jU3yWAod1ibt"
      },
      "execution_count": null,
      "outputs": []
    },
    {
      "cell_type": "code",
      "source": [
        "from sklearn.datasets import make_classification\n",
        "from sklearn.model_selection import train_test_split\n",
        "from hpsklearn import HyperoptEstimator\n",
        "from hpsklearn import any_classifier\n",
        "from hpsklearn import any_preprocessing\n",
        "from hyperopt import tpe"
      ],
      "metadata": {
        "colab": {
          "base_uri": "https://localhost:8080/"
        },
        "id": "l6IDw0QscfZs",
        "outputId": "6b4b6ed1-87ff-418f-b25f-c8733680bb56"
      },
      "execution_count": null,
      "outputs": [
        {
          "output_type": "stream",
          "name": "stdout",
          "text": [
            "WARN: OMP_NUM_THREADS=None =>\n",
            "... If you are using openblas if you are using openblas set OMP_NUM_THREADS=1 or risk subprocess calls hanging indefinitely\n"
          ]
        }
      ]
    },
    {
      "cell_type": "code",
      "source": [
        "X = pd.read_csv('/content/drive/MyDrive/mmf-data-science-2022/train.csv')\n",
        "# define ordinal encoding\n",
        "encoder = OrdinalEncoder()\n",
        "# transform data\n",
        "X.loc[:, ['cut','color', 'clarity']] = encoder.fit_transform(X.loc[:, ['cut','color', 'clarity']])\n",
        "\n",
        "X_train = X.loc[:, X.columns!='price']\n",
        "y_train = X.loc[:, 'price']\n",
        "\n",
        "X_test = pd.read_csv('/content/drive/MyDrive/mmf-data-science-2022/test.csv')\n",
        "X_test.loc[:, ['cut','color', 'clarity']] = encoder.fit_transform(X_test.loc[:, ['cut','color', 'clarity']])"
      ],
      "metadata": {
        "id": "NVoGz66xxp7s"
      },
      "execution_count": null,
      "outputs": []
    },
    {
      "cell_type": "code",
      "source": [
        "# Import the model we are using\n",
        "from sklearn.ensemble import RandomForestRegressor\n",
        "# Instantiate model with 1000 decision trees\n",
        "rf = RandomForestRegressor(n_estimators = 1000, random_state = 42)\n",
        "# Train the model on training data\n",
        "rf.fit(X_train, y_train);"
      ],
      "metadata": {
        "id": "UlJi4S4f83_V"
      },
      "execution_count": null,
      "outputs": []
    },
    {
      "cell_type": "code",
      "source": [
        "# Use the forest's predict method on the test data\n",
        "predictions = rf.predict(X_test)"
      ],
      "metadata": {
        "colab": {
          "base_uri": "https://localhost:8080/"
        },
        "id": "I95e7xwk-mYq",
        "outputId": "f701c26f-b110-4a90-e3d7-9240b0733792"
      },
      "execution_count": null,
      "outputs": [
        {
          "output_type": "stream",
          "name": "stderr",
          "text": [
            "/usr/local/lib/python3.7/dist-packages/sklearn/base.py:493: FutureWarning: The feature names should match those that were passed during fit. Starting version 1.2, an error will be raised.\n",
            "Feature names unseen at fit time:\n",
            "- id\n",
            "Feature names seen at fit time, yet now missing:\n",
            "- Unnamed: 0\n",
            "\n",
            "  warnings.warn(message, FutureWarning)\n"
          ]
        }
      ]
    },
    {
      "cell_type": "code",
      "source": [
        "id = np.arange(len(predictions))\n",
        "result = pd.DataFrame({'id': id, 'price': predictions})\n",
        "result.to_csv('/content/drive/MyDrive/mmf-data-science-2022/prediction.csv', index=False)"
      ],
      "metadata": {
        "id": "NmLIRHlc-yBg"
      },
      "execution_count": null,
      "outputs": []
    }
  ]
}